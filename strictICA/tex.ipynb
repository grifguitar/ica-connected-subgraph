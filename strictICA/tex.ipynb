{
 "cells": [
  {
   "cell_type": "markdown",
   "source": [
    "Пусть $X$ - матрица размера $n \\cdot m$.\n",
    "\n",
    "Запишем $L_1$-norm **ICA**:\n",
    "\n",
    "$\n",
    "\\begin{cases}\n",
    "\\left\\lVert a \\cdot X \\right\\rVert_1 \\rightarrow min \\\\\n",
    "\\left\\lVert a \\right\\rVert_2 = 1\n",
    "\\end{cases}\n",
    "$\n",
    "\n",
    "Приведем эквивалентную систему:\n",
    "\n",
    "$\n",
    "\\begin{cases}\n",
    "\\left\\lVert a \\cdot X \\right\\rVert_1 = 1 \\\\\n",
    "\\left\\lVert a \\right\\rVert_2 \\rightarrow min\n",
    "\\end{cases}\n",
    "$"
   ],
   "metadata": {
    "collapsed": false,
    "pycharm": {
     "name": "#%% md\n"
    }
   }
  }
 ],
 "metadata": {
  "kernelspec": {
   "display_name": "Python 3",
   "language": "python",
   "name": "python3"
  },
  "language_info": {
   "codemirror_mode": {
    "name": "ipython",
    "version": 2
   },
   "file_extension": ".py",
   "mimetype": "text/x-python",
   "name": "python",
   "nbconvert_exporter": "python",
   "pygments_lexer": "ipython2",
   "version": "2.7.6"
  }
 },
 "nbformat": 4,
 "nbformat_minor": 0
}