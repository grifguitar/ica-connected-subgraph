{
 "cells": [
  {
   "cell_type": "markdown",
   "source": [
    "#### $L_1$-norm ICA\n",
    "\n",
    "Пусть $X$ - матрица размера $n \\cdot d$, представляющая набор $d$-мерных точек.\n",
    "\n",
    "Найти единичный радиус-вектор $q$ в $d$-мерном пространстве, такой что:\n",
    "\n",
    "$\n",
    "\\begin{cases}\n",
    "\\lVert X \\cdot q \\rVert_1 \\rightarrow min \\\\\n",
    "\\lVert q \\rVert_2 = 1\n",
    "\\end{cases}\n",
    "$\n",
    "\n",
    "#### Квадратичное программирование\n",
    "\n",
    "Будем решать следующую систему:\n",
    "\n",
    "$\n",
    "\\begin{cases}\n",
    "\\lVert a \\rVert_2 \\rightarrow min \\\\\n",
    "\\lVert X \\cdot a \\rVert_1 = 1\n",
    "\\end{cases}\n",
    "$\n",
    "\n",
    "Выпишем ограничения для задачи квадратичного программирования:\n",
    "\n",
    "$\n",
    "\\begin{cases}\n",
    "p = X \\cdot a \\\\\n",
    "\\sum_{i} \\lvert p_i \\rvert = 1\n",
    "\\end{cases}\n",
    "$\n",
    "\n",
    "Раскроем модуль:\n",
    "\n",
    "$\n",
    "\\begin{cases}\n",
    "d - e = X \\cdot a \\\\\n",
    "\\sum_{i} (d_i + e_i) = 1 \\\\\n",
    "d_i, e_i \\geq 0 \\\\\n",
    "d_i \\leq \\alpha \\cdot \\infty \\\\\n",
    "e_i \\leq \\beta \\cdot \\infty \\\\\n",
    "\\alpha + \\beta = 1 \\\\\n",
    "\\alpha, \\beta = \\{0, 1\\}\n",
    "\\end{cases}\n",
    "$"
   ],
   "metadata": {
    "collapsed": false,
    "pycharm": {
     "name": "#%% md\n"
    }
   }
  }
 ],
 "metadata": {
  "kernelspec": {
   "display_name": "Python 3",
   "language": "python",
   "name": "python3"
  },
  "language_info": {
   "codemirror_mode": {
    "name": "ipython",
    "version": 2
   },
   "file_extension": ".py",
   "mimetype": "text/x-python",
   "name": "python",
   "nbconvert_exporter": "python",
   "pygments_lexer": "ipython2",
   "version": "2.7.6"
  }
 },
 "nbformat": 4,
 "nbformat_minor": 0
}